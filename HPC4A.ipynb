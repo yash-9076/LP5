{
  "nbformat": 4,
  "nbformat_minor": 0,
  "metadata": {
    "colab": {
      "provenance": [],
      "gpuType": "T4"
    },
    "kernelspec": {
      "name": "python3",
      "display_name": "Python 3"
    },
    "language_info": {
      "name": "python"
    },
    "accelerator": "GPU"
  },
  "cells": [
    {
      "cell_type": "code",
      "execution_count": null,
      "metadata": {
        "colab": {
          "base_uri": "https://localhost:8080/"
        },
        "id": "ElNR9ecK_jLp",
        "outputId": "1d1a6352-a734-474b-91cd-14418a1c1f42"
      },
      "outputs": [
        {
          "output_type": "stream",
          "name": "stdout",
          "text": [
            "Writing vector_add.cu\n"
          ]
        }
      ],
      "source": [
        "%%writefile vector_add.cu\n",
        "#include <stdio.h>\n",
        "#include <cuda_runtime.h>\n",
        "\n",
        "// CUDA kernel\n",
        "__global__ void vectorAdd(float *a, float *b, float *c, int n) {\n",
        "    int i = blockIdx.x * blockDim.x + threadIdx.x;\n",
        "    if (i < n) {\n",
        "        c[i] = a[i] + b[i];\n",
        "    }\n",
        "}\n",
        "\n",
        "// Macro to check for CUDA errors\n",
        "#define CHECK_CUDA_ERROR(call) \\\n",
        "    do { \\\n",
        "        cudaError_t err = call; \\\n",
        "        if (err != cudaSuccess) { \\\n",
        "            fprintf(stderr, \"CUDA error in %s at line %d: %s\\n\", __FILE__, __LINE__, cudaGetErrorString(err)); \\\n",
        "            return 1; \\\n",
        "        } \\\n",
        "    } while(0)\n",
        "\n",
        "int main() {\n",
        "    int n = 1 << 20;\n",
        "    size_t size = n * sizeof(float);\n",
        "\n",
        "    // Host memory allocation\n",
        "    float *h_a = (float *)malloc(size);\n",
        "    float *h_b = (float *)malloc(size);\n",
        "    float *h_c = (float *)malloc(size);\n",
        "\n",
        "    // Initialize input vectors\n",
        "    for (int i = 0; i < n; i++) {\n",
        "        h_a[i] = float(i);\n",
        "        h_b[i] = float(i * 2);\n",
        "    }\n",
        "\n",
        "    // Device memory allocation\n",
        "    float *d_a, *d_b, *d_c;\n",
        "    CHECK_CUDA_ERROR(cudaMalloc((void **)&d_a, size));\n",
        "    CHECK_CUDA_ERROR(cudaMalloc((void **)&d_b, size));\n",
        "    CHECK_CUDA_ERROR(cudaMalloc((void **)&d_c, size));\n",
        "\n",
        "    // Copy data to device\n",
        "    CHECK_CUDA_ERROR(cudaMemcpy(d_a, h_a, size, cudaMemcpyHostToDevice));\n",
        "    CHECK_CUDA_ERROR(cudaMemcpy(d_b, h_b, size, cudaMemcpyHostToDevice));\n",
        "\n",
        "    // Launch kernel\n",
        "    int threadsPerBlock = 256;\n",
        "    int blocksPerGrid = (n + threadsPerBlock - 1) / threadsPerBlock;\n",
        "    vectorAdd<<<blocksPerGrid, threadsPerBlock>>>(d_a, d_b, d_c, n);\n",
        "\n",
        "    // Check for any kernel launch errors\n",
        "    CHECK_CUDA_ERROR(cudaGetLastError());\n",
        "\n",
        "    // Copy result back to host\n",
        "    CHECK_CUDA_ERROR(cudaMemcpy(h_c, d_c, size, cudaMemcpyDeviceToHost));\n",
        "\n",
        "    // Print some results to verify\n",
        "    for (int i = 0; i < 9; i++) {\n",
        "        printf(\"c[%d] = %f\\n\", i, h_c[i]);\n",
        "    }\n",
        "\n",
        "    // Free memory\n",
        "    cudaFree(d_a);\n",
        "    cudaFree(d_b);\n",
        "    cudaFree(d_c);\n",
        "    free(h_a);\n",
        "    free(h_b);\n",
        "    free(h_c);\n",
        "\n",
        "    return 0;\n",
        "}"
      ]
    },
    {
      "cell_type": "code",
      "source": [
        "!nvcc -arch=sm_75 vector_add.cu -o vector_add\n",
        "!./vector_add"
      ],
      "metadata": {
        "colab": {
          "base_uri": "https://localhost:8080/"
        },
        "id": "5ZDo0huT_75O",
        "outputId": "bcb3e2a0-0873-4fc6-b41e-cb0b29f4f015"
      },
      "execution_count": null,
      "outputs": [
        {
          "output_type": "stream",
          "name": "stdout",
          "text": [
            "c[0] = 0.000000\n",
            "c[1] = 3.000000\n",
            "c[2] = 6.000000\n",
            "c[3] = 9.000000\n",
            "c[4] = 12.000000\n",
            "c[5] = 15.000000\n",
            "c[6] = 18.000000\n",
            "c[7] = 21.000000\n",
            "c[8] = 24.000000\n"
          ]
        }
      ]
    }
  ]
}